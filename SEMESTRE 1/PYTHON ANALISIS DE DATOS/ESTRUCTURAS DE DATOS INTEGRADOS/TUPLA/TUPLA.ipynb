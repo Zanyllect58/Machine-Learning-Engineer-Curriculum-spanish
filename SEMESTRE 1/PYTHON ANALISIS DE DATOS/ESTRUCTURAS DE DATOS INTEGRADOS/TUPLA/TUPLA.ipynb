{
 "cells": [
  {
   "cell_type": "markdown",
   "id": "6a71a810",
   "metadata": {},
   "source": [
    "# TUPLA\n",
    "\n",
    "## ¿Qué es?\n",
    "\n",
    "Una **tupla** en Python es una estructura de datos que permite agrupar múltiples valores en un solo objeto. Su funcionamiento es similar al de una lista, pero con una diferencia importante: las tuplas son **inmutables**, lo que significa que **no pueden ser modificadas** una vez creadas. Es decir, no se pueden cambiar, agregar ni eliminar elementos.\n",
    "\n",
    "Para crear una tupla, los elementos se colocan entre paréntesis y se separan por comas. Por ejemplo:"
   ]
  },
  {
   "cell_type": "code",
   "execution_count": 9,
   "id": "315dbfaf",
   "metadata": {},
   "outputs": [],
   "source": [
    "tup = (4, 5, 6)"
   ]
  },
  {
   "cell_type": "markdown",
   "id": "b49e8760",
   "metadata": {},
   "source": [
    "Sin embargo, el uso de paréntesis no es obligatorio. También se puede definir una tupla simplemente separando los elementos con comas:"
   ]
  },
  {
   "cell_type": "code",
   "execution_count": 10,
   "id": "cc762e88",
   "metadata": {},
   "outputs": [],
   "source": [
    "tup = 4, 5, 6"
   ]
  },
  {
   "cell_type": "markdown",
   "id": "d5e02939",
   "metadata": {},
   "source": [
    "## Crear tuplas a partir de otras secuencias\n",
    "\n",
    "También es posible generar una tupla a partir de **cualquier secuencia** (como listas o cadenas) o **iterador**, utilizando la función incorporada `tuple()`.\n",
    "\n",
    "A continuación, algunos ejemplos:\n"
   ]
  },
  {
   "cell_type": "code",
   "execution_count": 11,
   "id": "2589a0b4",
   "metadata": {},
   "outputs": [
    {
     "name": "stdout",
     "output_type": "stream",
     "text": [
      "(4, 0, 2)\n",
      "('s', 't', 'r', 'i', 'n', 'g')\n"
     ]
    }
   ],
   "source": [
    "print(tuple([4, 0, 2]))\n",
    "# Resultado: (4, 0, 2)\n",
    "\n",
    "tup = tuple('string')\n",
    "print(tup)\n",
    "# Resultado: ('s', 't', 'r', 'i', 'n', 'g')"
   ]
  },
  {
   "cell_type": "markdown",
   "id": "1343cf7a",
   "metadata": {},
   "source": [
    "## Acceso a los elementos\n",
    "\n",
    "Es posible acceder a los elementos de una tupla utilizando **corchetes** `[]`, al igual que ocurre con la mayoría de los tipos de secuencia en Python. \n",
    "\n",
    "Al igual que en lenguajes como C/C++ o Java, las posiciones dentro de una tupla están **indexadas desde cero**, lo que significa que el primer elemento tiene índice `0`.\n",
    "\n",
    "Por ejemplo:"
   ]
  },
  {
   "cell_type": "code",
   "execution_count": 12,
   "id": "98a2108e",
   "metadata": {},
   "outputs": [
    {
     "name": "stdout",
     "output_type": "stream",
     "text": [
      "s\n"
     ]
    }
   ],
   "source": [
    "tup = ('s', 't', 'r', 'i', 'n', 'g')\n",
    "print(tup[0])\n",
    "# Resultado: 's'\n"
   ]
  },
  {
   "cell_type": "markdown",
   "id": "96123897",
   "metadata": {},
   "source": [
    "## Tuplas anidadas\n",
    "\n",
    "Cuando se definen tuplas que contienen otras tuplas (es decir, **tuplas anidadas**) o se utilizan **expresiones más complejas**, es recomendable —y en algunos casos necesario— **usar paréntesis para agrupar correctamente los valores**.\n",
    "\n",
    "Por ejemplo, al crear una tupla compuesta por otras dos tuplas:"
   ]
  },
  {
   "cell_type": "code",
   "execution_count": 13,
   "id": "c8a17b13",
   "metadata": {},
   "outputs": [
    {
     "name": "stdout",
     "output_type": "stream",
     "text": [
      "((4, 5, 6), (7, 8))\n"
     ]
    }
   ],
   "source": [
    "nested_tup = (4, 5, 6), (7, 8)\n",
    "# Resultado: ((4, 5, 6), (7, 8))\n",
    "print(nested_tup)"
   ]
  },
  {
   "cell_type": "markdown",
   "id": "944a133d",
   "metadata": {},
   "source": [
    "En este caso, nested_tup es una tupla que contiene dos elementos, y cada uno de esos elementos es a su vez una tupla.\n",
    "\n",
    "Puedes acceder a los elementos individuales como en cualquier otra tupla:\n"
   ]
  },
  {
   "cell_type": "code",
   "execution_count": 14,
   "id": "eff9dfa0",
   "metadata": {},
   "outputs": [
    {
     "name": "stdout",
     "output_type": "stream",
     "text": [
      "(4, 5, 6)\n",
      "(7, 8)\n"
     ]
    }
   ],
   "source": [
    "print(nested_tup[0])\n",
    "# Resultado: (4, 5, 6)\n",
    "\n",
    "print(nested_tup[1])\n",
    "# Resultado: (7,8)"
   ]
  },
  {
   "cell_type": "markdown",
   "id": "31a4b2c7",
   "metadata": {},
   "source": [
    "## Inmutabilidad de las tuplas\n",
    "\n",
    "Aunque los **elementos** dentro de una tupla pueden ser objetos **mutables** (como listas), la tupla en sí misma es **inmutable**. Esto significa que **no se puede cambiar qué objeto ocupa una posición** determinada una vez la tupla ha sido creada.\n",
    "\n",
    "En este caso:\n",
    "\n",
    "    'foo' es una cadena (inmutable),\n",
    "\n",
    "    [1, 2] es una lista (mutable),\n",
    "\n",
    "    True es un valor booleano (inmutable).\n",
    "\n",
    "\n",
    "Por ejemplo:"
   ]
  },
  {
   "cell_type": "code",
   "execution_count": 15,
   "id": "9905d3dc",
   "metadata": {},
   "outputs": [
    {
     "ename": "TypeError",
     "evalue": "'tuple' object does not support item assignment",
     "output_type": "error",
     "traceback": [
      "\u001b[31m---------------------------------------------------------------------------\u001b[39m",
      "\u001b[31mTypeError\u001b[39m                                 Traceback (most recent call last)",
      "\u001b[36mCell\u001b[39m\u001b[36m \u001b[39m\u001b[32mIn[15]\u001b[39m\u001b[32m, line 3\u001b[39m\n\u001b[32m      1\u001b[39m tup = \u001b[38;5;28mtuple\u001b[39m([\u001b[33m'\u001b[39m\u001b[33mfoo\u001b[39m\u001b[33m'\u001b[39m, [\u001b[32m1\u001b[39m, \u001b[32m2\u001b[39m], \u001b[38;5;28;01mTrue\u001b[39;00m])\n\u001b[32m----> \u001b[39m\u001b[32m3\u001b[39m \u001b[43mtup\u001b[49m\u001b[43m[\u001b[49m\u001b[32;43m2\u001b[39;49m\u001b[43m]\u001b[49m = \u001b[38;5;28;01mFalse\u001b[39;00m\n\u001b[32m      4\u001b[39m \u001b[38;5;66;03m# TypeError: 'tuple' object does not support item assignment\u001b[39;00m\n",
      "\u001b[31mTypeError\u001b[39m: 'tuple' object does not support item assignment"
     ]
    }
   ],
   "source": [
    "tup = tuple(['foo', [1, 2], True])\n",
    "\n",
    "tup[2] = False\n",
    "# TypeError: 'tuple' object does not support item assignment"
   ]
  },
  {
   "cell_type": "markdown",
   "id": "54933f4c",
   "metadata": {},
   "source": [
    "Este error ocurre porque no se puede modificar directamente el contenido de una posición de la tupla.\n",
    "\n",
    "Sin embargo, sí es posible modificar el contenido de un objeto mutable dentro de la tupla. Por ejemplo:"
   ]
  },
  {
   "cell_type": "code",
   "execution_count": null,
   "id": "b32ee088",
   "metadata": {},
   "outputs": [
    {
     "name": "stdout",
     "output_type": "stream",
     "text": [
      "('foo', [1, 2, 3], True)\n"
     ]
    }
   ],
   "source": [
    "tup[1].append(3)\n",
    "print(tup)\n",
    "# Resultado: ('foo', [1, 2, 3], True)"
   ]
  },
  {
   "cell_type": "markdown",
   "id": "e3c15f40",
   "metadata": {},
   "source": [
    "## Concatenación de tuplas\n",
    "\n",
    "En Python, se pueden **unir varias tuplas** utilizando el operador `+`. Esto produce una **nueva tupla** que contiene todos los elementos de las tuplas originales, en orden. Cabe destacar que este proceso **no modifica** las tuplas originales, ya que son inmutables.\n",
    "\n",
    "Por ejemplo:\n"
   ]
  },
  {
   "cell_type": "code",
   "execution_count": null,
   "id": "4f882573",
   "metadata": {},
   "outputs": [
    {
     "name": "stdout",
     "output_type": "stream",
     "text": [
      "(4, None, 'foo', 6, 0, 'bar')\n"
     ]
    }
   ],
   "source": [
    "resultado = (4, None, 'foo') + (6, 0) + ('bar',)\n",
    "print(resultado)\n",
    "# Resultado: (4, None, 'foo', 6, 0, 'bar')"
   ]
  },
  {
   "cell_type": "markdown",
   "id": "80cbd170",
   "metadata": {},
   "source": [
    "**Nota importante**: El último grupo ('bar',) incluye una coma para que Python lo reconozca como una tupla con un solo elemento. Sin la coma, sería solo una cadena entre paréntesis, no una tupla.\n",
    "\n",
    "Este tipo de operación es útil para construir tuplas más complejas a partir de partes más pequeñas.\n",
    "\n",
    "## Repetición de tuplas\n",
    "\n",
    "Al igual que con las listas, en Python se puede **multiplicar una tupla por un número entero** para repetir su contenido. Esto genera una **nueva tupla** que contiene tantas copias consecutivas de la original como lo indica el número.\n",
    "\n",
    "Por ejemplo:\n"
   ]
  },
  {
   "cell_type": "code",
   "execution_count": null,
   "id": "2150cc82",
   "metadata": {},
   "outputs": [],
   "source": [
    "tup = ('foo', 'bar') * 4\n",
    "print(tup)\n",
    "# Resultado: ('foo', 'bar', 'foo', 'bar', 'foo', 'bar', 'foo', 'bar')"
   ]
  },
  {
   "cell_type": "markdown",
   "id": "a23163f1",
   "metadata": {},
   "source": [
    "\n",
    "Esta operación no modifica la tupla original, sino que crea una nueva con los elementos repetidos. Es útil para generar datos de prueba o construir estructuras repetitivas rápidamente.\n",
    "\n",
    "## Desempaquetado de tuplas\n",
    "\n",
    "Python permite asignar múltiples variables a la vez usando una sintaxis similar a la de una tupla. Cuando se usa esta estructura, **Python intentará desempaquetar** (es decir, repartir) los valores de la secuencia que está a la derecha del signo igual.\n",
    "\n",
    "Por ejemplo:"
   ]
  },
  {
   "cell_type": "code",
   "execution_count": null,
   "id": "9d6416d4",
   "metadata": {},
   "outputs": [
    {
     "name": "stdout",
     "output_type": "stream",
     "text": [
      "5\n"
     ]
    }
   ],
   "source": [
    "tup = (4, 5, 6)\n",
    "a, b, c = tup\n",
    "print(b)\n",
    "# Resultado: 5"
   ]
  },
  {
   "cell_type": "markdown",
   "id": "c109465b",
   "metadata": {},
   "source": [
    "En este caso, los valores de la tupla se asignan a las variables a, b y c respectivamente.\n",
    "Desempaquetado de tuplas anidadas\n",
    "\n",
    "Incluso se pueden desempaquetar estructuras anidadas, siempre que la forma de la expresión coincida con la forma de la tupla:"
   ]
  },
  {
   "cell_type": "code",
   "execution_count": null,
   "id": "d2ff29dd",
   "metadata": {},
   "outputs": [
    {
     "name": "stdout",
     "output_type": "stream",
     "text": [
      "5\n"
     ]
    }
   ],
   "source": [
    "nested_tup = (4, (5, 6))\n",
    "a, (b, c) = nested_tup\n",
    "print(b)\n",
    "# Resultado: 5"
   ]
  },
  {
   "cell_type": "markdown",
   "id": "f60adf01",
   "metadata": {},
   "source": [
    "## Intercambio de variables con tuplas\n",
    "\n",
    "Gracias al **desempaquetado de tuplas**, en Python se puede **intercambiar el valor de dos variables de forma directa y elegante**, sin necesidad de usar una variable temporal, como sería necesario en muchos otros lenguajes.\n",
    "\n",
    "### En otros lenguajes (como C, Java, etc.):"
   ]
  },
  {
   "cell_type": "markdown",
   "id": "f8f97bb3",
   "metadata": {},
   "source": [
    "```bash\n",
    "tmp = a\n",
    "a = b\n",
    "b = tmp\n",
    "```"
   ]
  },
  {
   "cell_type": "markdown",
   "id": "f9016ee9",
   "metadata": {},
   "source": [
    "Pero en Python, gracias a la asignación múltiple (también conocida como tuple unpacking), puedes hacerlo de forma más compacta y clara:"
   ]
  },
  {
   "cell_type": "code",
   "execution_count": null,
   "id": "04a0798b",
   "metadata": {},
   "outputs": [
    {
     "name": "stdout",
     "output_type": "stream",
     "text": [
      "a: 1\n",
      "b: 2\n",
      "a: 2\n",
      "b: 1\n"
     ]
    }
   ],
   "source": [
    "a, b = 1, 2\n",
    "print(\"a:\", a)  # a: 1\n",
    "print(\"b:\", b)  # b: 2\n",
    "\n",
    "# Intercambio\n",
    "b, a = a, b\n",
    "\n",
    "print(\"a:\", a)  # a: 2\n",
    "print(\"b:\", b)  # b: 1\n"
   ]
  },
  {
   "cell_type": "markdown",
   "id": "30029dd0",
   "metadata": {},
   "source": [
    "## Desempaquetado en bucles\n",
    "\n",
    "Se usa mucho al iterar sobre secuencias de tuplas o listas."
   ]
  },
  {
   "cell_type": "code",
   "execution_count": null,
   "id": "13ed7965",
   "metadata": {},
   "outputs": [
    {
     "name": "stdout",
     "output_type": "stream",
     "text": [
      "a=1, b=2, c=3\n",
      "a=4, b=5, c=6\n",
      "a=7, b=8, c=9\n"
     ]
    }
   ],
   "source": [
    "seq = [(1, 2, 3), (4, 5, 6), (7, 8, 9)]\n",
    "\n",
    "for a, b, c in seq:\n",
    "    print(f'a={a}, b={b}, c={c}')\n",
    "# resultados:\n",
    "#a=1, b=2, c=3  \n",
    "#a=4, b=5, c=6  \n",
    "#a=7, b=8, c=9\n"
   ]
  },
  {
   "cell_type": "markdown",
   "id": "53dd45c4",
   "metadata": {},
   "source": [
    "También se puede usar el desempaquetado para recibir varios valores devueltos por una función. (Este tema se tratará más adelante)"
   ]
  },
  {
   "cell_type": "markdown",
   "id": "80bd8d3d",
   "metadata": {},
   "source": [
    "## Capturar parte de una secuencia con *rest\n",
    "\n",
    "Cuando queremos guardar solo algunos elementos y el resto descartarlo o agruparlo:"
   ]
  },
  {
   "cell_type": "code",
   "execution_count": null,
   "id": "08039c06",
   "metadata": {},
   "outputs": [
    {
     "name": "stdout",
     "output_type": "stream",
     "text": [
      "1\n",
      "2\n",
      "[3, 4, 5]\n"
     ]
    }
   ],
   "source": [
    "values = (1, 2, 3, 4, 5)\n",
    "a, b, *rest = values\n",
    "# Resultado:\n",
    "#    a = 1\n",
    "#    b = 2\n",
    "#    rest = [3, 4, 5]\n",
    "print(a)\n",
    "print(b)\n",
    "print(rest)"
   ]
  },
  {
   "cell_type": "markdown",
   "id": "d11f749c",
   "metadata": {},
   "source": [
    "## Descartar valores con _\n",
    "\n",
    "Si no necesitas usar todos los elementos, puedes usar _ como nombre de variable para indicar que no te interesa su valor."
   ]
  },
  {
   "cell_type": "code",
   "execution_count": null,
   "id": "779459e4",
   "metadata": {},
   "outputs": [],
   "source": [
    "a, b, *_ = values"
   ]
  },
  {
   "cell_type": "markdown",
   "id": "fa847b5c",
   "metadata": {},
   "source": [
    "## Métodos de las tuplas\n",
    "\n",
    "Como las tuplas son inmutables (no se pueden modificar una vez creadas), la cantidad de métodos disponibles es muy limitada comparado con otros tipos como listas.\n",
    "\n",
    ".count()\n",
    "\n",
    "Uno de los pocos métodos útiles es .count(), que sirve para contar cuántas veces aparece un valor específico en la tupla.\n",
    "\n",
    "Ejemplo:\n",
    "\n",
    "\n"
   ]
  },
  {
   "cell_type": "code",
   "execution_count": null,
   "id": "118d5ae5",
   "metadata": {},
   "outputs": [
    {
     "data": {
      "text/plain": [
       "4"
      ]
     },
     "execution_count": 8,
     "metadata": {},
     "output_type": "execute_result"
    }
   ],
   "source": [
    "a = ( 1,2,2,2,3,4,2)\n",
    "a.count(2)\n",
    "# resultado : 4 "
   ]
  }
 ],
 "metadata": {
  "kernelspec": {
   "display_name": "Python 3",
   "language": "python",
   "name": "python3"
  },
  "language_info": {
   "codemirror_mode": {
    "name": "ipython",
    "version": 3
   },
   "file_extension": ".py",
   "mimetype": "text/x-python",
   "name": "python",
   "nbconvert_exporter": "python",
   "pygments_lexer": "ipython3",
   "version": "3.13.3"
  }
 },
 "nbformat": 4,
 "nbformat_minor": 5
}
