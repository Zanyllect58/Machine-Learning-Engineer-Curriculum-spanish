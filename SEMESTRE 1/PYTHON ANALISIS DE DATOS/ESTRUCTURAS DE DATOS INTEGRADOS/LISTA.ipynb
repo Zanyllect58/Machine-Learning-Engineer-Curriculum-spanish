{
 "cells": [
  {
   "cell_type": "markdown",
   "id": "cc4c15d7",
   "metadata": {},
   "source": [
    "# Listas \n",
    "\n",
    "Qué son las listas?\n",
    "\n",
    "    Las listas son estructuras de datos que permiten almacenar múltiples elementos en una sola variable.\n",
    "\n",
    "    A diferencia de las tuplas, las listas:\n",
    "\n",
    "        Son mutables: se pueden modificar después de ser creadas (agregar, eliminar o cambiar elementos).\n",
    "\n",
    "        Tienen longitud variable: se pueden expandir o reducir.\n",
    "\n",
    "## ¿Cómo se crean las listas?\n",
    "\n",
    "Existen dos formas principales:\n",
    "\n",
    "Usando corchetes []:"
   ]
  },
  {
   "cell_type": "code",
   "execution_count": null,
   "id": "93c37d28",
   "metadata": {},
   "outputs": [],
   "source": [
    "a_list = [2, 3, 7, 'noe']\n"
   ]
  },
  {
   "cell_type": "markdown",
   "id": "3ad41200",
   "metadata": {},
   "source": [
    "## Usando la función list():\n",
    "\n",
    "Puedes convertir otras estructuras, como tuplas, en listas:"
   ]
  },
  {
   "cell_type": "code",
   "execution_count": null,
   "id": "c7cc8b3d",
   "metadata": {},
   "outputs": [],
   "source": [
    "tup = (\"foo\", \"bar\", \"baz\")\n",
    "b_list = list(tup)\n",
    "print(b_list)"
   ]
  },
  {
   "cell_type": "markdown",
   "id": "2b604ec1",
   "metadata": {},
   "source": [
    "## Modificar elementos de una lista\n",
    "\n",
    "Puedes cambiar cualquier elemento accediendo a él por su índice:"
   ]
  },
  {
   "cell_type": "code",
   "execution_count": null,
   "id": "7fa499ef",
   "metadata": {},
   "outputs": [],
   "source": [
    "b_list[1] = \"peekaboo\"\n",
    "\n",
    "# ['foo', 'peekaboo', 'baz']\n",
    "print(b_list)"
   ]
  }
 ],
 "metadata": {
  "kernelspec": {
   "display_name": "Python 3",
   "language": "python",
   "name": "python3"
  },
  "language_info": {
   "name": "python",
   "version": "3.13.3"
  }
 },
 "nbformat": 4,
 "nbformat_minor": 5
}
