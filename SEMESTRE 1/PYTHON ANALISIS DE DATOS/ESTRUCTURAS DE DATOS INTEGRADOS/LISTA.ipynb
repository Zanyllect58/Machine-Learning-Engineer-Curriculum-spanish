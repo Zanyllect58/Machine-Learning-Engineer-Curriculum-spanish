{
 "cells": [
  {
   "cell_type": "markdown",
   "id": "cc4c15d7",
   "metadata": {},
   "source": [
    "# Listas \n",
    "\n",
    "Qué son las listas?\n",
    "\n",
    "    Las listas son estructuras de datos que permiten almacenar múltiples elementos en una sola variable.\n",
    "\n",
    "    A diferencia de las tuplas, las listas:\n",
    "\n",
    "        Son mutables: se pueden modificar después de ser creadas (agregar, eliminar o cambiar elementos).\n",
    "\n",
    "        Tienen longitud variable: se pueden expandir o reducir.\n",
    "\n",
    "## ¿Cómo se crean las listas?\n",
    "\n",
    "Existen dos formas principales:\n",
    "\n",
    "Usando corchetes []:"
   ]
  },
  {
   "cell_type": "code",
   "execution_count": null,
   "id": "93c37d28",
   "metadata": {},
   "outputs": [],
   "source": [
    "a_list = [2, 3, 7, 'noe']\n"
   ]
  },
  {
   "cell_type": "markdown",
   "id": "3ad41200",
   "metadata": {},
   "source": [
    "## Usando la función list():\n",
    "\n",
    "Puedes convertir otras estructuras, como tuplas, en listas:"
   ]
  },
  {
   "cell_type": "code",
   "execution_count": null,
   "id": "c7cc8b3d",
   "metadata": {},
   "outputs": [],
   "source": [
    "tup = (\"foo\", \"bar\", \"baz\")\n",
    "b_list = list(tup)\n",
    "print(b_list)"
   ]
  },
  {
   "cell_type": "markdown",
   "id": "2b604ec1",
   "metadata": {},
   "source": [
    "## Modificar elementos de una lista\n",
    "\n",
    "Puedes cambiar cualquier elemento accediendo a él por su índice:"
   ]
  },
  {
   "cell_type": "code",
   "execution_count": null,
   "id": "7fa499ef",
   "metadata": {},
   "outputs": [],
   "source": [
    "b_list[1] = \"peekaboo\"\n",
    "\n",
    "# ['foo', 'peekaboo', 'baz']\n",
    "print(b_list)"
   ]
  },
  {
   "cell_type": "markdown",
   "id": "11bbcda7",
   "metadata": {},
   "source": [
    " ## Listas y Tuplas en Python\n",
    "🔹 Similitudes y diferencias\n",
    "\n",
    "    Listas y tuplas son estructuras de datos secuenciales en Python.\n",
    "\n",
    "    Tuplas son inmutables (no se pueden modificar), mientras que las listas son mutables.\n",
    "\n",
    "    A pesar de esta diferencia, ambas pueden ser utilizadas en muchas funciones de forma intercambiable.\n",
    "\n",
    "\n",
    "##  Conversión de iteradores a listas\n",
    "\n",
    "    La función integrada list() permite convertir objetos iterables (como rangos o generadores) en listas:"
   ]
  },
  {
   "cell_type": "code",
   "execution_count": null,
   "id": "4749ecfb",
   "metadata": {},
   "outputs": [],
   "source": [
    "gen = range(10)\n",
    "list(gen)\n",
    "# Resultado: [0, 1, 2, 3, 4, 5, 6, 7, 8, 9]\n"
   ]
  },
  {
   "cell_type": "markdown",
   "id": "dab27329",
   "metadata": {},
   "source": [
    "## Métodos para modificar listas\n",
    "\n",
    "Agregar elementos\n",
    "\n",
    "    Añadir al final con append():"
   ]
  },
  {
   "cell_type": "code",
   "execution_count": null,
   "id": "705b4cb6",
   "metadata": {},
   "outputs": [],
   "source": [
    "b_list.append(\"dwarf\")\n",
    "# Resultado: ['foo', 'peekaboo', 'baz', 'dwarf']\n"
   ]
  },
  {
   "cell_type": "markdown",
   "id": "d969bd56",
   "metadata": {},
   "source": [
    "Insertar en una posición específica con insert():"
   ]
  },
  {
   "cell_type": "code",
   "execution_count": null,
   "id": "0f6721ea",
   "metadata": {},
   "outputs": [],
   "source": [
    "b_list.insert(1, \"red\")\n",
    "# Resultado: ['foo', 'red', 'peekaboo', 'baz', 'dwarf']\n"
   ]
  },
  {
   "cell_type": "markdown",
   "id": "d0dd1af1",
   "metadata": {},
   "source": [
    "Nota: insert() es más lento que append() porque puede requerir mover elementos internamente.\n",
    "\n",
    "## Alternativa eficiente:\n",
    "\n",
    "Para insertar elementos al inicio y al final, se recomienda usar collections.deque de la biblioteca estándar:\n"
   ]
  },
  {
   "cell_type": "code",
   "execution_count": null,
   "id": "a8e2c631",
   "metadata": {},
   "outputs": [],
   "source": [
    "from collections import deque\n",
    "d = deque()\n"
   ]
  },
  {
   "cell_type": "markdown",
   "id": "0818c780",
   "metadata": {},
   "source": [
    "## Eliminar elementos\n",
    "\n",
    "    Eliminar por posición con pop():"
   ]
  },
  {
   "cell_type": "code",
   "execution_count": null,
   "id": "e8373925",
   "metadata": {},
   "outputs": [],
   "source": [
    "b_list.pop(2)\n",
    "# Devuelve: 'peekaboo'\n",
    "# Resultado: ['foo', 'red', 'baz', 'dwarf']\n"
   ]
  },
  {
   "cell_type": "markdown",
   "id": "76dd5453",
   "metadata": {},
   "source": [
    "Eliminar por valor con remove():"
   ]
  },
  {
   "cell_type": "code",
   "execution_count": null,
   "id": "0052b6a7",
   "metadata": {},
   "outputs": [],
   "source": [
    "b_list.append(\"foo\")\n",
    "b_list.remove(\"foo\")\n",
    "# Resultado: ['red', 'baz', 'dwarf', 'foo']\n"
   ]
  },
  {
   "cell_type": "markdown",
   "id": "3bea8c92",
   "metadata": {},
   "source": [
    "remove() elimina solo la primera ocurrencia del valor especificado.\n",
    "\n",
    "## Uso como conjunto (con limitaciones)\n",
    "\n",
    "Aunque Python tiene un tipo de dato llamado set, es posible usar una lista como si fuera un conjunto con append() y remove().\n",
    "\n",
    "\n",
    "## Comprobación de pertenencia\n",
    "\n",
    "Puedes verificar si un elemento está (o no está) en una lista con el operador in:"
   ]
  },
  {
   "cell_type": "code",
   "execution_count": null,
   "id": "f4debd26",
   "metadata": {},
   "outputs": [],
   "source": []
  }
 ],
 "metadata": {
  "kernelspec": {
   "display_name": "Python 3",
   "language": "python",
   "name": "python3"
  },
  "language_info": {
   "name": "python",
   "version": "3.13.3"
  }
 },
 "nbformat": 4,
 "nbformat_minor": 5
}
